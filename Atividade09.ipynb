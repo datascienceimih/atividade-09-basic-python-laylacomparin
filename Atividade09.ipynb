{
 "cells": [
  {
   "cell_type": "markdown",
   "metadata": {},
   "source": [
    "\n",
    "# Projeto Integrador 09\n",
    "\n",
    "### Layla Comparin\n",
    "\n",
    "Olá. Neste exercício do projeto integrador, vamos praticar algumas habilidades básicas em Python. Vamos lidar com algumas estruturas de dados nativas da linguagem.\n",
    "\n",
    "1) Crie uma lista com 100 números gerados aleatoriamente. Use o módulo numpy para criar os dados que você precisa. Atribua a lista a um objeto nomeado.\n"
   ]
  },
  {
   "cell_type": "code",
   "execution_count": 1,
   "metadata": {},
   "outputs": [],
   "source": [
    "import pandas as pd\n",
    "import numpy as np\n",
    "\n",
    "numeros = np.random.normal(size=100)\n"
   ]
  },
  {
   "cell_type": "markdown",
   "metadata": {},
   "source": [
    "2) Apresente o maior número, o menor número, a média do vetor, o desvio padrão e a variância. Todas essas funções podem ser encontradas no módulo numpy."
   ]
  },
  {
   "cell_type": "code",
   "execution_count": 28,
   "metadata": {},
   "outputs": [
    {
     "data": {
      "text/plain": [
       "2.248223433282637"
      ]
     },
     "execution_count": 28,
     "metadata": {},
     "output_type": "execute_result"
    }
   ],
   "source": [
    "numeros.max()"
   ]
  },
  {
   "cell_type": "code",
   "execution_count": 29,
   "metadata": {},
   "outputs": [
    {
     "data": {
      "text/plain": [
       "-1.9645702826228189"
      ]
     },
     "execution_count": 29,
     "metadata": {},
     "output_type": "execute_result"
    }
   ],
   "source": [
    "numeros.min()"
   ]
  },
  {
   "cell_type": "code",
   "execution_count": 30,
   "metadata": {},
   "outputs": [
    {
     "data": {
      "text/plain": [
       "-0.03736125629555031"
      ]
     },
     "execution_count": 30,
     "metadata": {},
     "output_type": "execute_result"
    }
   ],
   "source": [
    "numeros.mean()"
   ]
  },
  {
   "cell_type": "code",
   "execution_count": 31,
   "metadata": {},
   "outputs": [
    {
     "data": {
      "text/plain": [
       "0.9104348068125332"
      ]
     },
     "execution_count": 31,
     "metadata": {},
     "output_type": "execute_result"
    }
   ],
   "source": [
    "numeros.std()"
   ]
  },
  {
   "cell_type": "code",
   "execution_count": 32,
   "metadata": {},
   "outputs": [
    {
     "data": {
      "text/plain": [
       "0.8288915374557747"
      ]
     },
     "execution_count": 32,
     "metadata": {},
     "output_type": "execute_result"
    }
   ],
   "source": [
    "numeros.var()"
   ]
  },
  {
   "cell_type": "markdown",
   "metadata": {},
   "source": [
    "3) Apresente os mesmos resultados só que agora, construa uma frase que será apresentada no console. Ex.: A média do vetor numérico é 0.12.\n"
   ]
  },
  {
   "cell_type": "code",
   "execution_count": 33,
   "metadata": {},
   "outputs": [
    {
     "name": "stdout",
     "output_type": "stream",
     "text": [
      "A média do vetor numérico é -0.04\n"
     ]
    }
   ],
   "source": [
    "print(f'A média do vetor numérico é {round(numeros.mean(), 2)}')"
   ]
  },
  {
   "cell_type": "code",
   "execution_count": 34,
   "metadata": {},
   "outputs": [
    {
     "name": "stdout",
     "output_type": "stream",
     "text": [
      "O valor máximo do vetor numérico é 2.25\n"
     ]
    }
   ],
   "source": [
    "print(f'O valor máximo do vetor numérico é {round(numeros.max(), 2)}')"
   ]
  },
  {
   "cell_type": "code",
   "execution_count": 35,
   "metadata": {},
   "outputs": [
    {
     "name": "stdout",
     "output_type": "stream",
     "text": [
      "O valor mínimo do vetor numérico é -1.96\n"
     ]
    }
   ],
   "source": [
    "print(f'O valor mínimo do vetor numérico é {round(numeros.min(), 2)}')"
   ]
  },
  {
   "cell_type": "code",
   "execution_count": 36,
   "metadata": {},
   "outputs": [
    {
     "name": "stdout",
     "output_type": "stream",
     "text": [
      "O desvio padrão do vetor numérico é -0.04\n"
     ]
    }
   ],
   "source": [
    "print(f'O desvio padrão do vetor numérico é {round(numeros.mean(), 2)}')"
   ]
  },
  {
   "cell_type": "code",
   "execution_count": 37,
   "metadata": {},
   "outputs": [
    {
     "name": "stdout",
     "output_type": "stream",
     "text": [
      "A variância do vetor numérico é 0.83\n"
     ]
    }
   ],
   "source": [
    "print(f'A variância do vetor numérico é {round(numeros.var(), 2)}')"
   ]
  },
  {
   "cell_type": "markdown",
   "metadata": {},
   "source": [
    "4) Construa um for loop para iterar entre todos os números do vetor. Exiba o número no console se ele for maior do que 0."
   ]
  },
  {
   "cell_type": "code",
   "execution_count": 38,
   "metadata": {},
   "outputs": [
    {
     "name": "stdout",
     "output_type": "stream",
     "text": [
      "[0.4384613  1.39817692 0.61724981 0.65990965 1.33884872 0.0747375\n",
      " 0.53714407 0.75332807 0.64237889 0.40207999 0.5826472  0.67491314\n",
      " 0.14887239 0.52569705 0.36842172 0.86777864 0.31893566 1.02611354\n",
      " 2.24822343 0.42714379 1.19034151 0.9861265  1.21486975 1.53876661\n",
      " 0.2237552  0.54438842 1.02739001 1.16613836 0.08335437 1.02063122\n",
      " 0.54048162 0.06635298 0.29104765 1.79608138 1.11675973 1.02223171\n",
      " 0.01713357 0.19665899 1.55143864 1.16528024 0.81989217 0.13113012\n",
      " 0.77365287 1.56343252 0.1179034  0.37131291 0.47275644 0.21400092]\n"
     ]
    }
   ],
   "source": [
    "print(numeros[[i for i in numeros > 0]])"
   ]
  },
  {
   "cell_type": "markdown",
   "metadata": {},
   "source": [
    "5) Faça a mesma coisa usando um loop while."
   ]
  },
  {
   "cell_type": "code",
   "execution_count": 60,
   "metadata": {},
   "outputs": [
    {
     "name": "stdout",
     "output_type": "stream",
     "text": [
      "0.438461300370509\n",
      "1.3981769221557883\n",
      "0.6172498071535044\n",
      "0.6599096503029623\n",
      "1.3388487230249266\n",
      "0.07473750310356168\n",
      "0.537144066815887\n",
      "0.7533280696160409\n",
      "0.6423788864760954\n",
      "0.40207998728242605\n",
      "0.5826472030595807\n",
      "0.6749131371726589\n",
      "0.14887238876433664\n",
      "0.5256970526894277\n",
      "0.3684217205110487\n",
      "0.8677786427286066\n",
      "0.3189356617173349\n",
      "1.0261135366901966\n",
      "2.248223433282637\n",
      "0.4271437889915767\n",
      "1.1903415095752523\n",
      "0.9861265001783434\n",
      "1.2148697465961897\n",
      "1.5387666118713221\n",
      "0.22375519791084886\n",
      "0.5443884245044892\n",
      "1.0273900118279904\n",
      "1.166138363072325\n",
      "0.08335437344299322\n",
      "1.020631224386862\n",
      "0.5404816195189435\n",
      "0.06635298479877795\n",
      "0.29104765455166687\n",
      "1.7960813760052885\n",
      "1.1167597324738634\n",
      "1.0222317105814265\n",
      "0.017133567188065017\n",
      "0.19665898663267684\n",
      "1.5514386377553127\n",
      "1.1652802417501815\n",
      "0.8198921669527511\n",
      "0.1311301189243369\n",
      "0.7736528717291565\n",
      "1.5634325154531017\n",
      "0.11790340498033089\n",
      "0.3713129071851778\n",
      "0.47275643791023936\n",
      "0.21400092263814674\n"
     ]
    }
   ],
   "source": [
    "j = 0\n",
    "while j < len(numeros):\n",
    "    if numeros[j] > 0:\n",
    "        print(numeros[j])\n",
    "        j += 1"
   ]
  },
  {
   "cell_type": "markdown",
   "metadata": {},
   "source": [
    "6) Usando um comando, crie uma lista com números de 0 a 80. Usando um for loop e um loop while, se o número estiver entre 0 e 20, imprima pequeno. Se estiver entre 21 e 40, imprima médio. Se estiver entre 41 e 60, imprima grande. Se estiver entre 61 e 80, imprima \"Que isso, meu?\". Se o número for igual à sua idade, imprima na tela \"Te peguei!\".\n"
   ]
  },
  {
   "cell_type": "code",
   "execution_count": 2,
   "metadata": {},
   "outputs": [
    {
     "name": "stdout",
     "output_type": "stream",
     "text": [
      "Pequeno\n",
      "Pequeno\n",
      "Pequeno\n",
      "Pequeno\n",
      "Pequeno\n",
      "Pequeno\n",
      "Pequeno\n",
      "Pequeno\n",
      "Pequeno\n",
      "Pequeno\n",
      "Pequeno\n",
      "Pequeno\n",
      "Pequeno\n",
      "Pequeno\n",
      "Pequeno\n",
      "Pequeno\n",
      "Pequeno\n",
      "Pequeno\n",
      "Pequeno\n",
      "Pequeno\n",
      "Pequeno\n",
      "Médio\n",
      "Médio\n",
	  "Te peguei\n",
      "Médio\n",
      "Médio\n",
      "Médio\n",
      "Médio\n",
      "Médio\n",
      "Médio\n",
      "Médio\n",
      "Médio\n",
      "Médio\n",
      "Médio\n",
      "Médio\n",
      "Médio\n",
      "Médio\n",
      "Médio\n",
      "Médio\n",
      "Médio\n",
      "Médio\n",
      "Médio\n",
      "Grande\n",
      "Grande\n",
      "Grande\n",
      "Grande\n",
      "Grande\n",
      "Grande\n",
      "Grande\n",
      "Grande\n",
      "Grande\n",
      "Grande\n",
      "Grande\n",
      "Grande\n",
      "Grande\n",
      "Grande\n",
      "Grande\n",
      "Grande\n",
      "Grande\n",
      "Grande\n",
      "Grande\n",
      "Grande\n",
      "Que isso, meu?\n",
      "Que isso, meu?\n",
      "Que isso, meu?\n",
      "Que isso, meu?\n",
      "Que isso, meu?\n",
      "Que isso, meu?\n",
      "Que isso, meu?\n",
      "Que isso, meu?\n",
      "Que isso, meu?\n",
      "Que isso, meu?\n",
      "Que isso, meu?\n",
      "Que isso, meu?\n",
      "Que isso, meu?\n",
      "Que isso, meu?\n",
      "Que isso, meu?\n",
      "Que isso, meu?\n",
      "Que isso, meu?\n",
      "Que isso, meu?\n",
      "Que isso, meu?\n",
      "Que isso, meu?\n"
     ]
    }
   ],
   "source": [
    "lista = list(range(81))\n",
    "\n",
    "for i in lista:\n",
    "    if i <= 20:\n",
    "        print('Pequeno')\n",
    "    elif i > 20 and i <= 40:\n",
    "        print('Médio')\n",
    "    elif i > 40 and i <= 60:\n",
    "        print('Grande')\n",
    "    elif i > 60:\n",
    "        print('Que isso, meu?')\n",
    "    if i == 23:\n",
    "        print('Te peguei!')"
   ]
  },
  {
   "cell_type": "code",
   "execution_count": 4,
   "metadata": {},
   "outputs": [
    {
     "name": "stdout",
     "output_type": "stream",
     "text": [
      "Pequeno\n",
      "Pequeno\n",
      "Pequeno\n",
      "Pequeno\n",
      "Pequeno\n",
      "Pequeno\n",
      "Pequeno\n",
      "Pequeno\n",
      "Pequeno\n",
      "Pequeno\n",
      "Pequeno\n",
      "Pequeno\n",
      "Pequeno\n",
      "Pequeno\n",
      "Pequeno\n",
      "Pequeno\n",
      "Pequeno\n",
      "Pequeno\n",
      "Pequeno\n",
      "Pequeno\n",
      "Pequeno\n",
      "Médio\n",
      "Médio\n",
	  "Te peguei\n",
      "Médio\n",
      "Médio\n",
      "Médio\n",
      "Médio\n",
      "Médio\n",
      "Médio\n",
      "Médio\n",
      "Médio\n",
      "Médio\n",
      "Médio\n",
      "Médio\n",
      "Médio\n",
      "Médio\n",
      "Médio\n",
      "Médio\n",
      "Médio\n",
      "Médio\n",
      "Médio\n",
      "Grande\n",
      "Grande\n",
      "Grande\n",
      "Grande\n",
      "Grande\n",
      "Grande\n",
      "Grande\n",
      "Grande\n",
      "Grande\n",
      "Grande\n",
      "Grande\n",
      "Grande\n",
      "Grande\n",
      "Grande\n",
      "Grande\n",
      "Grande\n",
      "Grande\n",
      "Grande\n",
      "Grande\n",
      "Grande\n",
      "Que isso, meu?\n",
      "Que isso, meu?\n",
      "Que isso, meu?\n",
      "Que isso, meu?\n",
      "Que isso, meu?\n",
      "Que isso, meu?\n",
      "Que isso, meu?\n",
      "Que isso, meu?\n",
      "Que isso, meu?\n",
      "Que isso, meu?\n",
      "Que isso, meu?\n",
      "Que isso, meu?\n",
      "Que isso, meu?\n",
      "Que isso, meu?\n",
      "Que isso, meu?\n",
      "Que isso, meu?\n",
      "Que isso, meu?\n",
      "Que isso, meu?\n",
      "Que isso, meu?\n",
      "Que isso, meu?\n"
     ]
    }
   ],
   "source": [
    "i = 0\n",
    "while i < len(lista):\n",
    "    if i <= 20:\n",
    "        print('Pequeno')\n",
    "    elif i > 20 and i <= 40:\n",
    "        print('Médio')\n",
    "    elif i > 40 and i <= 60:\n",
    "        print('Grande')\n",
    "    elif i > 60:\n",
    "        print('Que isso, meu?')\n",
    "    if i == 23:\n",
    "        print('Te peguei!')\n",
    "    i += 1"
   ]
  },
  {
   "cell_type": "markdown",
   "metadata": {},
   "source": [
    "7) Crie um dicionário. As chaves serão os nomes de 5 pessoas e os valores, suas idades. Usando um for loop, imprima os pares chave, valor.\n"
   ]
  },
  {
   "cell_type": "code",
   "execution_count": 5,
   "metadata": {},
   "outputs": [
    {
     "name": "stdout",
     "output_type": "stream",
     "text": [
      "Ana 45\n",
      "Mariana 57\n",
      "Amanda 14\n",
      "Neylson 30\n",
      "Layla 23\n"
     ]
    }
   ],
   "source": [
    "dict = {'Ana': 45,\n",
    "      'Mariana': 57,\n",
    "      'Amanda': 14,\n",
    "      'Neylson': 30,\n",
    "      'Layla': 23}\n",
    "for x, y in dict.items():\n",
    "    print(x, y)"
   ]
  },
  {
   "cell_type": "markdown",
   "metadata": {},
   "source": [
    "8) Usando um for loop, mostre quem é a pessoa mais velha e a pessoa mais nova no dicionário. Dica: usaremos um for loop iterando sobre os pares de chaves, valores (os itens).\n"
   ]
  },
  {
   "cell_type": "code",
   "execution_count": 6,
   "metadata": {},
   "outputs": [
    {
     "name": "stdout",
     "output_type": "stream",
     "text": [
      "Amanda é a pessoa mais nova, essa pessoa tem 14 anos.\n",
      "Mariana é a pessoa mais velha, essa pessoa tem 57 anos.\n"
     ]
    }
   ],
   "source": [
    "for x, y in dict.items():\n",
    "    if y == max(dict.values()):\n",
    "        print(f'{x} é a pessoa mais velha, essa pessoa tem {y} anos.')\n",
    "    if y == min(dict.values()):\n",
    "        print(f'{x} é a pessoa mais nova, essa pessoa tem {y} anos.')"
   ]
  }
 ],
 "metadata": {
  "kernelspec": {
   "display_name": "Python 3",
   "language": "python",
   "name": "python3"
  },
  "language_info": {
   "codemirror_mode": {
    "name": "ipython",
    "version": 3
   },
   "file_extension": ".py",
   "mimetype": "text/x-python",
   "name": "python",
   "nbconvert_exporter": "python",
   "pygments_lexer": "ipython3",
   "version": "3.6.4"
  }
 },
 "nbformat": 4,
 "nbformat_minor": 2
}
